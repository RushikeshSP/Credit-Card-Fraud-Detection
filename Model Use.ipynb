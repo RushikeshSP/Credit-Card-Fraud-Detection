{
 "cells": [
  {
   "cell_type": "code",
   "execution_count": 1,
   "metadata": {},
   "outputs": [],
   "source": [
    "from joblib import dump, load\n",
    "model = load(\"Fraud.joblib\")"
   ]
  },
  {
   "cell_type": "code",
   "execution_count": 2,
   "metadata": {},
   "outputs": [
    {
     "data": {
      "text/plain": [
       "array([0], dtype=int64)"
      ]
     },
     "execution_count": 2,
     "metadata": {},
     "output_type": "execute_result"
    }
   ],
   "source": [
    "import numpy as np\n",
    "\n",
    "features = np.array([[ 1.41158751,  0.99337908, -0.45603659, -0.89405156, -0.46728372,\n",
    "        1.08921729,  3.02438347, -1.19485202,  0.95705742,  1.28137638,\n",
    "       -0.1445464 , -0.11081458,  0.50933857,  0.06211735, -0.06955768,\n",
    "        1.45109663,  0.4044464 , -0.90740352,  0.16913345, -0.55536574,\n",
    "       -0.17311239,  0.10317115,  0.40956311,  0.49068498,  1.14196982,\n",
    "       -0.67083198, -0.80722695,  0.19191152, -0.09910576, -0.32249376]])\n",
    "model.predict(features)"
   ]
  },
  {
   "cell_type": "code",
   "execution_count": 3,
   "metadata": {},
   "outputs": [
    {
     "data": {
      "text/plain": [
       "array([0], dtype=int64)"
      ]
     },
     "execution_count": 3,
     "metadata": {},
     "output_type": "execute_result"
    }
   ],
   "source": [
    "features2 = np.array([[472, -3.043540624, -3.157307121, 1.08846278, 2.288643618,\n",
    " 1.35980513, -1.064822523, 0.325574266, -0.067793653, -0.270952836,\n",
    " -0.838586565, -0.414575448, -0.50314086, 0.676501545, -1.692028933,\n",
    " 2.000634839, 0.666779696, 0.599717414, 1.725321007, 0.28334483,\n",
    " 2.102338793, 0.661695925, 0.435477209, 1.375965743, -0.293803153,\n",
    " 0.279798032, -0.145361715, -0.252773123, 0.035764225, 529]])\n",
    "model.predict(features2)"
   ]
  },
  {
   "cell_type": "code",
   "execution_count": null,
   "metadata": {},
   "outputs": [],
   "source": []
  }
 ],
 "metadata": {
  "kernelspec": {
   "display_name": "Python 3",
   "language": "python",
   "name": "python3"
  },
  "language_info": {
   "codemirror_mode": {
    "name": "ipython",
    "version": 3
   },
   "file_extension": ".py",
   "mimetype": "text/x-python",
   "name": "python",
   "nbconvert_exporter": "python",
   "pygments_lexer": "ipython3",
   "version": "3.8.5"
  }
 },
 "nbformat": 4,
 "nbformat_minor": 4
}
